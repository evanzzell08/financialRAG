{
 "cells": [
  {
   "metadata": {},
   "cell_type": "code",
   "outputs": [],
   "execution_count": null,
   "source": [
    "\"\"\"\n",
    "Financial News RAG Model\n",
    "\n",
    "This project implements a Retrieval-Augmented Generation (RAG) model with LangChain and Mistral to answer financial questions based on the latest news. It combines retrieval and generation for providing accurate, source-referenced responses. The architecture is a chain-style graph with memory for context-based QA.\n",
    "\n",
    "Key Components:\n",
    "- Vector Store: Stores news article embeddings for semantic search.\n",
    "- Retriever: Retrieves the most relevant news for a given query when necessary.\n",
    "- LLM with Tools: Generates responses using both retrieval results and language modeling.\n",
    "- State Graph: Implements a conditioned reasoning chain.\n",
    "\n",
    "Usage:\n",
    "- Run the project with `ask_chain()` to query the model:\n",
    "    ask_chain(graph, \"What is the latest update on Apple stock prices?\")\n",
    "- Responses will include answers with source references.\n",
    "\n",
    "Example Query:\n",
    "    User: \"What is the latest update on Apple stock prices?\"\n",
    "    Assistant: \n",
    "        Answer: Analysts predict Apple’s stock may rise due to strong quarterly earnings.  \n",
    "        Sources: Bloomberg (Published: 2025-02-10), CNBC (Published: 2025-02-11)\n",
    "\n",
    "Dependencies:\n",
    "- Python 3.11\n",
    "- LangChain\n",
    "- Pinecone\n",
    "\n",
    "Author:\n",
    "    Yeva Velychko\n",
    "Version: \n",
    "    1.0  \n",
    "Date:\n",
    "    February 15, 2025\n",
    "\"\"\""
   ],
   "id": "db3fab7f94ba8fab"
  },
  {
   "metadata": {},
   "cell_type": "code",
   "outputs": [],
   "execution_count": null,
   "source": [
    "!pip install --quiet --upgrade langchain-text-splitters langchain-community langgraph\n",
    "!pip install -U langchain-ollama\n",
    "# !ollama pull llama3\n",
    "!ollama pull mistral"
   ],
   "id": "fbc121e30a2defb3"
  },
  {
   "metadata": {},
   "cell_type": "code",
   "outputs": [],
   "execution_count": null,
   "source": [
    "import os\n",
    "from dotenv import load_dotenv\n",
    "from langchain_ollama import ChatOllama, OllamaEmbeddings"
   ],
   "id": "ffe2c8588e3f3f17"
  },
  {
   "metadata": {
    "ExecuteTime": {
     "end_time": "2025-02-14T11:04:04.947022Z",
     "start_time": "2025-02-14T11:04:04.896276Z"
    }
   },
   "cell_type": "code",
   "source": [
    "load_dotenv()\n",
    "\n",
    "os.environ[\"LANGSMITH_TRACING\"] = \"true\"\n",
    "os.environ[\"LANGSMITH_API_KEY\"] = os.getenv(\"LANGSMITH_API_KEY\")"
   ],
   "id": "337e4d35bbec6d7f",
   "outputs": [],
   "execution_count": 1
  },
  {
   "metadata": {
    "ExecuteTime": {
     "end_time": "2025-02-14T16:30:50.280573Z",
     "start_time": "2025-02-14T16:30:47.882691Z"
    }
   },
   "cell_type": "code",
   "source": [
    "llm = ChatOllama(\n",
    "    model = \"mistral\",\n",
    "    temperature = 0.4,  # low temperature for more fact-based responses\n",
    "    num_predict = 256,\n",
    ")\n",
    "\n",
    "embed = OllamaEmbeddings(\n",
    "    model=\"mistral\"\n",
    ")"
   ],
   "id": "e691e242626a794f",
   "outputs": [],
   "execution_count": 250
  },
  {
   "metadata": {
    "ExecuteTime": {
     "end_time": "2025-02-14T11:06:15.637354Z",
     "start_time": "2025-02-14T11:06:14.510412Z"
    }
   },
   "cell_type": "code",
   "source": [
    "# testing the embed model\n",
    "test_text = \"Hello, this is a test for embeddings.\"\n",
    "\n",
    "try:\n",
    "    embedding_vector = embed.embed_query(test_text)\n",
    "    embedding_length = len(embedding_vector)\n",
    "    print(f\"Vector size: {embedding_length}\")  \n",
    "    print(f\"First 5 values: {embedding_vector[:5]}\")\n",
    "except Exception as e:\n",
    "    print(f\"Error generating embeddings: {e}\")"
   ],
   "id": "afa1b7b77974743e",
   "outputs": [
    {
     "name": "stdout",
     "output_type": "stream",
     "text": [
      "Vector size: 4096\n",
      "First 5 values: [0.016489906, -0.029164085, -0.0030536354, 0.0061009917, -0.008788722]\n"
     ]
    }
   ],
   "execution_count": 4
  },
  {
   "metadata": {},
   "cell_type": "markdown",
   "source": "## Preparing the News",
   "id": "34ee0c4743846637"
  },
  {
   "metadata": {},
   "cell_type": "code",
   "outputs": [],
   "execution_count": null,
   "source": [
    "from langchain_pinecone import PineconeVectorStore\n",
    "from pinecone import Pinecone, ServerlessSpec\n",
    "from datetime import datetime\n",
    "import requests\n",
    "from bs4 import BeautifulSoup, SoupStrainer\n",
    "import re\n",
    "from langchain.document_loaders import WebBaseLoader\n",
    "from langchain.schema import Document\n",
    "from langchain_text_splitters import RecursiveCharacterTextSplitter"
   ],
   "id": "2b942b59f6fb2a08"
  },
  {
   "metadata": {
    "ExecuteTime": {
     "end_time": "2025-02-14T12:48:59.449493Z",
     "start_time": "2025-02-14T12:48:48.001365Z"
    }
   },
   "cell_type": "code",
   "source": [
    "PINECONE_API_KEY = os.getenv(\"PINECONE_API_KEY\")\n",
    "pc = Pinecone(api_key=PINECONE_API_KEY)\n",
    "\n",
    "index_name = \"finance-news-mistral\"\n",
    "try:\n",
    "    pc.Index(index_name)\n",
    "except Exception as e:\n",
    "    pc.create_index(index_name,\n",
    "                                  spec=ServerlessSpec(\n",
    "                                      cloud=\"aws\",\n",
    "                                      region=\"us-east-1\"\n",
    "                                  ),\n",
    "                                  dimension=embedding_length, # embedding size of the embedding model\n",
    "                                  metric=\"cosine\")\n",
    "    \n",
    "index = pc.Index(index_name)\n",
    "vector_store = PineconeVectorStore(embedding=embed, index=index)"
   ],
   "id": "854a588f1e9b9def",
   "outputs": [],
   "execution_count": 122
  },
  {
   "metadata": {
    "ExecuteTime": {
     "end_time": "2025-02-14T12:35:42.002222Z",
     "start_time": "2025-02-14T12:35:41.200810Z"
    }
   },
   "cell_type": "code",
   "source": [
    "def fetch_stock_news(tickers: list[str], limit: int = 15) -> list[dict]:\n",
    "    \"\"\"\n",
    "    Fetch the latest stock news articles from Alpha Vantage API.\n",
    "\n",
    "    Args:\n",
    "        tickers (list[str]): List of stock tickers (e.g., ['AAPL', 'MSFT']).\n",
    "        limit (int, optional): Maximum number of news articles to fetch. Defaults to 15.\n",
    "\n",
    "    Returns:\n",
    "        list[dict]: A list of dictionaries containing news titles, URLs, and publication times.\n",
    "    \"\"\"\n",
    "    api_key = os.getenv(\"ALPHAVANTAGE_API_KEY\")\n",
    "    if not api_key:\n",
    "        raise ValueError(\"API key is missing. Set ALPHAVANTAGE_API_KEY environment variable.\")\n",
    "    \n",
    "    # constructing the API URL\n",
    "    base_url = \"https://www.alphavantage.co/query?function=NEWS_SENTIMENT\"\n",
    "    tickers_param = f\"&tickers={','.join(tickers)}\" if tickers else \"\"\n",
    "    url = f\"{base_url}{tickers_param}&apikey={api_key}\"\n",
    "    \n",
    "    # sending the request\n",
    "    response = requests.get(url)\n",
    "    data = response.json()\n",
    "    \n",
    "    # checking if the response contains news\n",
    "    if \"feed\" in data:\n",
    "        print(data[\"feed\"][0])\n",
    "        news_articles = [\n",
    "            {\"title\": article[\"title\"], \n",
    "             \"url\": article[\"url\"], \n",
    "             \"time_published\": datetime.strptime(article[\"time_published\"], \"%Y%m%dT%H%M%S\").strftime(\"%d %B %Y, %H:%M:%S\"),  # converting to readable format\n",
    "             # \"summary\": article[\"summary\"]\n",
    "             }\n",
    "            for article in data[\"feed\"][:limit]\n",
    "        ]\n",
    "        return news_articles\n",
    "    else:\n",
    "        print(\"Error fetching news:\", data)\n",
    "        return []\n",
    "\n",
    "news = fetch_stock_news([\"AAPL\", \n",
    "                         # \"CRYPTO:BTC\"\n",
    "                         ], limit=30)\n",
    "print(news)"
   ],
   "id": "8c13d3b84317ae3c",
   "outputs": [
    {
     "name": "stdout",
     "output_type": "stream",
     "text": [
      "{'title': 'TikTok Returns To Apple And Google App Stores After A Month-Long Hiatus - Alphabet  ( NASDAQ:GOOG ) , Apple  ( NASDAQ:AAPL ) ', 'url': 'https://www.benzinga.com/markets/25/02/43724471/tiktok-returns-to-apple-and-google-app-stores-after-a-month-long-hiatus', 'time_published': '20250214T110732', 'authors': ['Namrata Sen'], 'summary': 'TikTok, the Chinese short video platform, has reappeared on the Apple and Google app stores following a month-long hiatus. What Happened: TikTok officially announced that the app was restored to the app stores of Apple Inc. AAPL and Alphabet Inc. GOOGL GOOG on Thursday evening.', 'banner_image': 'https://cdn.benzinga.com/files/images/story/2025/02/14/TikTok-Installed-iPhones-Are-Being-Liste.jpeg?width=1200&height=800&fit=crop', 'source': 'Benzinga', 'category_within_source': 'Markets', 'source_domain': 'www.benzinga.com', 'topics': [{'topic': 'Technology', 'relevance_score': '0.5'}, {'topic': 'Manufacturing', 'relevance_score': '0.5'}], 'overall_sentiment_score': -0.009605, 'overall_sentiment_label': 'Neutral', 'ticker_sentiment': [{'ticker': 'GOOG', 'relevance_score': '0.391311', 'ticker_sentiment_score': '-0.172344', 'ticker_sentiment_label': 'Somewhat-Bearish'}, {'ticker': 'AAPL', 'relevance_score': '0.391311', 'ticker_sentiment_score': '-0.172344', 'ticker_sentiment_label': 'Somewhat-Bearish'}, {'ticker': 'TSLA', 'relevance_score': '0.081552', 'ticker_sentiment_score': '-0.103948', 'ticker_sentiment_label': 'Neutral'}, {'ticker': 'RDDT', 'relevance_score': '0.162255', 'ticker_sentiment_score': '-0.077123', 'ticker_sentiment_label': 'Neutral'}, {'ticker': 'ORCL', 'relevance_score': '0.162255', 'ticker_sentiment_score': '-0.267887', 'ticker_sentiment_label': 'Somewhat-Bearish'}, {'ticker': 'PINS', 'relevance_score': '0.162255', 'ticker_sentiment_score': '-0.077123', 'ticker_sentiment_label': 'Neutral'}, {'ticker': 'NET', 'relevance_score': '0.081552', 'ticker_sentiment_score': '0.087628', 'ticker_sentiment_label': 'Neutral'}]}\n",
      "[{'title': 'TikTok Returns To Apple And Google App Stores After A Month-Long Hiatus - Alphabet  ( NASDAQ:GOOG ) , Apple  ( NASDAQ:AAPL ) ', 'url': 'https://www.benzinga.com/markets/25/02/43724471/tiktok-returns-to-apple-and-google-app-stores-after-a-month-long-hiatus', 'time_published': '14 February 2025, 11:07:32'}, {'title': \"Here's How Generative AI Factors Into Amazon's Plan for Growth\", 'url': 'https://www.fool.com/investing/2025/02/14/heres-how-generative-ai-factors-into-amazons-plan/', 'time_published': '14 February 2025, 09:52:00'}, {'title': 'This Warren Buffett Index Fund Could Turn $400 Per Month Into $868,200', 'url': 'https://www.fool.com/investing/2025/02/14/warren-buffett-index-fund-turn-400-into-868200/', 'time_published': '14 February 2025, 09:00:00'}, {'title': 'Zacks Investment Ideas feature highlights Alibaba, JD.com, Baidu, KWEB and Apple', 'url': 'https://www.zacks.com/stock/news/2415895/zacks-investment-ideas-feature-highlights-alibaba-jdcom-baidu-kweb-and-apple', 'time_published': '14 February 2025, 07:03:00'}, {'title': \"Claudia Sheinbaum Says Mexican Government May Sue Google Over 'Gulf Of Mexico' Name Change - Alphabet  ( NASDAQ:GOOG ) , Apple  ( NASDAQ:AAPL ) \", 'url': 'https://www.benzinga.com/25/02/43721460/google-under-fire-as-mexico-considers-lawsuit-over-gulf-of-mexico-name-change', 'time_published': '14 February 2025, 07:01:54'}, {'title': \"Apple, Tesla And Other MAG 7 Peers Too Expensive? Top Hedge Fund Challenges 'Overvaluation' Concerns - Apple  ( NASDAQ:AAPL ) , Amazon.com  ( NASDAQ:AMZN ) \", 'url': 'https://www.benzinga.com/markets/equities/25/02/43721445/apple-tesla-and-other-mag-7-peers-too-expensive-top-hedge-fund-challenges-overvaluation-concerns', 'time_published': '14 February 2025, 07:01:02'}, {'title': 'Tim Cook Confirms New Apple Product Launch Next Week, Elon Musk Sets Off Buzz By Sharing - Is It The iPhone SE 4? - Apple  ( NASDAQ:AAPL ) ', 'url': 'https://www.benzinga.com/tech/25/02/43720367/tim-cook-confirms-new-apple-product-launch-next-week-elon-musk-sets-off-buzz-by-sharing-is-it-the-iphone-se-', 'time_published': '14 February 2025, 05:01:29'}, {'title': 'Arm Takes On Its Own Customers - Poaches Talent, Competes With Qualcomm And Nvidia For AI And Data Center Chip Deals: Report - Apple  ( NASDAQ:AAPL ) , ARM Holdings  ( NASDAQ:ARM ) ', 'url': 'https://www.benzinga.com/media/25/02/43719655/arm-takes-on-its-own-customers-poaches-talent-competes-with-qualcomm-and-nvidia-for-ai-and-data-center-chip', 'time_published': '14 February 2025, 03:51:17'}, {'title': \"Apple Stock Closes Above $240 After 36-Day Gap -Jim Cramer Mocks Early Sellers: '… Who Told Us It Was Over?' - Apple  ( NASDAQ:AAPL ) \", 'url': 'https://www.benzinga.com/25/02/43719293/despite-year-to-date-drop-apple-stock-closes-above-240-after-36-day-gap-jim-cramer-mocks-early-sellers-who-told-u', 'time_published': '14 February 2025, 02:50:38'}, {'title': 'Full-Shopping Boycotts Sweep Europe Over High Prices-Now, One US Community Is Following Suit But For A Different Cause - Apple  ( NASDAQ:AAPL ) , Costco Wholesale  ( NASDAQ:COST ) ', 'url': 'https://www.benzinga.com/news/25/02/43717325/full-shopping-boycotts-sweep-europe-over-high-prices-now-one-us-community-is-following-suit-but-for-a-differ', 'time_published': '14 February 2025, 00:00:43'}, {'title': 'Steve Jobs Feared His Porsche 911 Would Display His Wealth And Cost Him A $20 Million Deal-So He Scrambled To Hide It From Ross Perot - Apple  ( NASDAQ:AAPL ) ', 'url': 'https://www.benzinga.com/news/25/02/43713534/steve-jobs-feared-his-porsche-911-would-display-his-wealth-and-cost-him-a-20-million-deal-so-he-scrambled-to', 'time_published': '13 February 2025, 21:30:21'}, {'title': \"Apple Is Back With Ads On X After Halting Platform Spending In 2023 Over Elon Musk's Posts - Apple  ( NASDAQ:AAPL ) , Amazon.com  ( NASDAQ:AMZN ) \", 'url': 'https://www.benzinga.com/general/social-media/25/02/43703296/apple-is-back-with-ads-on-x-after-halting-platform-spending-in-2023-over-elon-musks-posts', 'time_published': '13 February 2025, 17:16:55'}, {'title': \"Trump White House Bans AP Reporter Over 'Gulf Of America' Conflict: Is A First Amendment Court Case In The Works? - Alphabet  ( NASDAQ:GOOG ) , Apple  ( NASDAQ:AAPL ) \", 'url': 'https://www.benzinga.com/25/02/43703290/trump-white-house-bans-reporter-over-gulf-of-america-conflict', 'time_published': '13 February 2025, 17:16:50'}, {'title': 'Exploring The Competitive Space: Apple Versus Industry Peers In Technology Hardware, Storage & Peripherals - Apple  ( NASDAQ:AAPL ) ', 'url': 'https://www.benzinga.com/insights/news/25/02/43696281/exploring-the-competitive-space-apple-versus-industry-peers-in-technology-hardware-storage-amp-peri', 'time_published': '13 February 2025, 15:00:49'}, {'title': 'Ignore the Headlines, Buy Chinese Stocks', 'url': 'https://www.zacks.com/commentary/2414880/ignore-the-headlines-buy-chinese-stocks', 'time_published': '13 February 2025, 14:00:00'}, {'title': \"Apple's Next Big Bet? Tim Cook-Led Company Is 'Exploring' Humanoid As Well As Non-Humanoid Robots For Smart Home Future, Says Top Analyst Apple's Future Smart Home Ecosystem May Include Robots, Says Ming-Chi Kuo. 'Exploring both humanoid and non-humanoid - Tesla  ( NASDAQ:TSLA ) \", 'url': 'https://www.benzinga.com/markets/25/02/43692026/apples-next-big-bet-tim-cook-led-company-is-exploring-humanoid-as-well-as-non-humanoid-robots-for-smart-h', 'time_published': '13 February 2025, 13:25:56'}, {'title': \"Not Just DeepSeek, China's AI Landscape Heats Up As Baidu Launches Free Ernie Bot - Baidu  ( NASDAQ:BIDU ) \", 'url': 'https://www.benzinga.com/markets/emerging-markets/25/02/43691826/not-just-deepseek-chinas-ai-landscape-heats-up-as-baidu-launches-free-ernie-bot', 'time_published': '13 February 2025, 13:19:12'}, {'title': 'Buy 3 Tech Mutual Funds for AI and Semiconductor Growth', 'url': 'https://www.zacks.com/stock/news/2415146/buy-3-tech-mutual-funds-for-ai-and-semiconductor-growth', 'time_published': '13 February 2025, 12:52:00'}, {'title': 'Should Vanguard Russell 1000 Growth ETF  ( VONG )  Be on Your Investing Radar?', 'url': 'https://www.zacks.com/stock/news/2415087/should-vanguard-russell-1000-growth-etf-vong-be-on-your-investing-radar', 'time_published': '13 February 2025, 11:20:08'}, {'title': 'Should Schwab Fundamental U.S. Large Company ETF  ( FNDX )  Be on Your Investing Radar?', 'url': 'https://www.zacks.com/stock/news/2415094/should-schwab-fundamental-us-large-company-etf-fndx-be-on-your-investing-radar', 'time_published': '13 February 2025, 11:20:06'}, {'title': 'The Zacks Analyst Blog Apple, Microsoft, Alphabet and Amazon', 'url': 'https://www.zacks.com/stock/news/2415083/the-zacks-analyst-blog-apple-microsoft-alphabet-and-amazon', 'time_published': '13 February 2025, 11:11:00'}, {'title': \"Roughly 62% of U.S. Adults Hold Stocks. Those Who Don't Could Be Missing Out on Millions.\", 'url': 'https://www.fool.com/retirement/2025/02/13/roughly-62-of-us-adults-hold-stocks-those-who-dont/', 'time_published': '13 February 2025, 10:07:00'}, {'title': \"Apple Intelligence Rollout In China And Europe To Boost iPhone Sales, Says Deepwater's Gene Munster - Alibaba Gr Hldgs  ( NYSE:BABA ) , Apple  ( NASDAQ:AAPL ) \", 'url': 'https://www.benzinga.com/markets/25/02/43683976/apple-intelligence-rollout-in-china-and-europe-to-boost-iphone-sales-says-deepwaters-gene-munster', 'time_published': '13 February 2025, 06:56:04'}, {'title': 'Softbank-Backed Arm Holdings 155% Post-IPO Surge Bolstered by AI Growth and Smartphone Integration - ARM Holdings  ( NASDAQ:ARM ) ', 'url': 'https://www.benzinga.com/media/25/02/43676475/softbank-backed-arm-holdings-155-post-ipo-surge-bolstered-by-ai-growth-and-smartphone-integration', 'time_published': '12 February 2025, 21:35:43'}, {'title': \"Decoding Apple's Options Activity: What's the Big Picture? - Apple  ( NASDAQ:AAPL ) \", 'url': 'https://www.benzinga.com/insights/options/25/02/43671869/decoding-apples-options-activity-whats-the-big-picture', 'time_published': '12 February 2025, 19:45:35'}, {'title': 'Why The MAGS ETF Has Remained Flat Year-to-Date Despite Some Strong Performers - Alphabet  ( NASDAQ:GOOGL ) , Apple  ( NASDAQ:AAPL ) ', 'url': 'https://www.benzinga.com/etfs/specialty-etfs/25/02/43671778/why-the-mags-etf-has-remained-flat-year-to-date-despite-some-strong-performers', 'time_published': '12 February 2025, 19:42:09'}, {'title': 'Apple Teams Up With Alibaba for AI, Analyst Says Edge Device Integration Could Boost Growth - Alibaba Gr Hldgs  ( NYSE:BABA ) , Apple  ( NASDAQ:AAPL ) ', 'url': 'https://www.benzinga.com/analyst-ratings/price-target/25/02/43668203/apple-teams-up-with-alibaba-for-ai-analyst-says-edge-device-integration-could-boost-', 'time_published': '12 February 2025, 17:54:52'}, {'title': 'Why Chinese Stocks Alibaba, Futu Holdings, and Tencent Shook Off Inflation Concerns and Are Rising Today', 'url': 'https://www.fool.com/investing/2025/02/12/why-chinese-stocks-alibaba-futu-holdings-and-tence/', 'time_published': '12 February 2025, 17:32:57'}, {'title': 'Apple Down 7% Year to Date on iPhone Weakness: Buy or Hold the Stock?', 'url': 'https://www.zacks.com/stock/news/2414741/apple-down-7-year-to-date-on-iphone-weakness-buy-or-hold-the-stock', 'time_published': '12 February 2025, 16:11:00'}, {'title': 'Market Analysis: Apple And Competitors In Technology Hardware, Storage & Peripherals Industry - Apple  ( NASDAQ:AAPL ) ', 'url': 'https://www.benzinga.com/insights/news/25/02/43660694/market-analysis-apple-and-competitors-in-technology-hardware-storage-amp-peripherals-industry', 'time_published': '12 February 2025, 15:00:52'}]\n"
     ]
    }
   ],
   "execution_count": 107
  },
  {
   "metadata": {
    "ExecuteTime": {
     "end_time": "2025-02-14T12:41:13.624839Z",
     "start_time": "2025-02-14T12:41:13.607180Z"
    }
   },
   "cell_type": "code",
   "source": [
    "def clean_text(text: str) -> str:\n",
    "    \"\"\"\n",
    "    Cleans the text by removing URLs and unwanted characters, keeping basic punctuation.\n",
    "\n",
    "    Args:\n",
    "        text (str): Raw text extracted from a webpage.\n",
    "\n",
    "    Returns:\n",
    "        str: Cleaned text with URLs and unnecessary symbols removed.\n",
    "    \"\"\"\n",
    "    \n",
    "    # removing URLs\n",
    "    text = re.sub(r'http[s]?://\\S+', '', text)\n",
    "    \n",
    "    # removing all non-alphanumeric characters except spaces and punctuation marks (.,!?)\n",
    "    text = re.sub(r'[^\\w\\s.,!?]', ' ', text).strip()\n",
    "\n",
    "    return text\n",
    "\n",
    "def extract_all_text(url: str) -> str:\n",
    "    \"\"\"\n",
    "    Extracts the main textual content from a given webpage URL.\n",
    "    \n",
    "     Args:\n",
    "        url (str): The URL of the webpage to extract text from.\n",
    "\n",
    "    Returns:\n",
    "        str: The extracted text as a string or an empty string if nothing was found.\n",
    "    \"\"\"\n",
    "    headers = {\n",
    "    \"User-Agent\": \"Mozilla/5.0 (Windows NT 10.0; Win64; x64) AppleWebKit/537.36 (KHTML, like Gecko) Chrome/119.0 Safari/537.36\"\n",
    "}\n",
    "    try:\n",
    "        # fetching the webpage content\n",
    "        response = requests.get(url, headers=headers, timeout=10)\n",
    "        response.raise_for_status()\n",
    "    except requests.RequestException as e:\n",
    "        print(f\"Failed loading {url}: {e}\")\n",
    "        return \"\"\n",
    "    \n",
    "    # parsing HTML content\n",
    "    soup = BeautifulSoup(response.text, \"html.parser\")\n",
    "    # print(soup.prettify())\n",
    "\n",
    "    # looking for an article tag\n",
    "    article = soup.find(\"article\")\n",
    "    if article:\n",
    "        return \"\\n\".join([p.get_text(strip=True) for p in article.find_all(\"p\") if p.get_text(strip=True)])\n",
    "\n",
    "    # parsing <p> tags in body contents if no article was found\n",
    "    body = soup.body\n",
    "    if body:\n",
    "        return \"\\n\".join([p.get_text(strip=True) for p in body.find_all(\"p\") if p.get_text(strip=True)])\n",
    "\n",
    "    return \"\"  # returning an empty string if no content is found\n"
   ],
   "id": "ede35bb945c13e9e",
   "outputs": [],
   "execution_count": 113
  },
  {
   "metadata": {
    "ExecuteTime": {
     "end_time": "2025-02-14T12:55:37.375759Z",
     "start_time": "2025-02-14T12:54:58.144588Z"
    }
   },
   "cell_type": "code",
   "source": [
    "def load_news_content(news_articles: list[dict]) -> list[Document]:\n",
    "    \"\"\"\n",
    "    Loads and processes news articles from URLs using LangChain WebBaseLoader \n",
    "    and applies all <body> text extraction if content is missing.\n",
    "\n",
    "    Args:\n",
    "        news_articles (list[dict]): A list of dictionaries with article information.\n",
    "            Each dictionary should contain:\n",
    "                - \"url\" (str): Article URL\n",
    "                - \"title\" (str, optional): Article title\n",
    "                - \"time_published\" (str, optional): Publication time\n",
    "\n",
    "    Returns:\n",
    "        list[Document]: A list of LangChain Document objects containing cleaned \n",
    "        article content and metadata.\n",
    "    \"\"\"\n",
    "    loader = WebBaseLoader([article[\"url\"] for article in news_articles],\n",
    "                        show_progress=True,\n",
    "                        bs_kwargs=dict(           \n",
    "        parse_only=SoupStrainer(\n",
    "            class_=(\"article-content-body\", \"article-content\", \"article-body\", \"post-content\", \"entry-content\",\n",
    "    \"news-content\", \"story-body\", \"content-text\", \"main-content\")\n",
    "        )),\n",
    "                           )\n",
    "    docs = loader.load()\n",
    "    # \n",
    "    # print(docs[0].page_content)\n",
    "    # print(docs[0].metadata)\n",
    "    \n",
    "    for i, doc in enumerate(docs):\n",
    "        if not doc.page_content.strip():  # if empty or whitespace-only \n",
    "            print(f\"No article content found for {news_articles[i]['url']}, extracting the whole <body> contents.\")\n",
    "            # fallback to full <body> extraction\n",
    "            doc.page_content = extract_all_text(doc.metadata[\"source\"])\n",
    "            # print(\"Extracted text: \", doc.page_content)\n",
    "    \n",
    "    # forming a list of Documents\n",
    "    docs_with_metadata = []\n",
    "    for doc, article in zip(docs, news_articles):\n",
    "        doc_with_metadata = Document(\n",
    "            # cleaning text and attaching metadata\n",
    "            page_content=clean_text(doc.page_content),  \n",
    "            metadata={\n",
    "                \"source\": article[\"url\"],\n",
    "                \"title\": article.get(\"title\", \"\"),\n",
    "                \"time_published\": article.get(\"time_published\", \"\"),\n",
    "                # \"summary\": article.get(\"summary\", \"\")\n",
    "            }\n",
    "        )\n",
    "        # print(doc_with_metadata.page_content)\n",
    "        docs_with_metadata.append(doc_with_metadata)\n",
    "    \n",
    "    return docs_with_metadata\n",
    "\n",
    "# loading contents from fetched news\n",
    "docs = load_news_content(news)\n",
    "\n",
    "# print(\"Length of the first parsed doc: \", len(docs[0].page_content)) \n",
    "# print(\"Article example: \", docs[0].page_content)"
   ],
   "id": "9f5b22d499ffe8c0",
   "outputs": [
    {
     "name": "stdout",
     "output_type": "stream",
     "text": [
      "No article content found for https://www.benzinga.com/markets/25/02/43724471/tiktok-returns-to-apple-and-google-app-stores-after-a-month-long-hiatus, extracting the whole <body> contents.\n",
      "No article content found for https://www.zacks.com/stock/news/2415895/zacks-investment-ideas-feature-highlights-alibaba-jdcom-baidu-kweb-and-apple, extracting the whole <body> contents.\n",
      "No article content found for https://www.benzinga.com/25/02/43721460/google-under-fire-as-mexico-considers-lawsuit-over-gulf-of-mexico-name-change, extracting the whole <body> contents.\n",
      "No article content found for https://www.benzinga.com/markets/equities/25/02/43721445/apple-tesla-and-other-mag-7-peers-too-expensive-top-hedge-fund-challenges-overvaluation-concerns, extracting the whole <body> contents.\n",
      "No article content found for https://www.benzinga.com/tech/25/02/43720367/tim-cook-confirms-new-apple-product-launch-next-week-elon-musk-sets-off-buzz-by-sharing-is-it-the-iphone-se-, extracting the whole <body> contents.\n",
      "No article content found for https://www.benzinga.com/media/25/02/43719655/arm-takes-on-its-own-customers-poaches-talent-competes-with-qualcomm-and-nvidia-for-ai-and-data-center-chip, extracting the whole <body> contents.\n",
      "No article content found for https://www.benzinga.com/25/02/43719293/despite-year-to-date-drop-apple-stock-closes-above-240-after-36-day-gap-jim-cramer-mocks-early-sellers-who-told-u, extracting the whole <body> contents.\n",
      "No article content found for https://www.benzinga.com/news/25/02/43717325/full-shopping-boycotts-sweep-europe-over-high-prices-now-one-us-community-is-following-suit-but-for-a-differ, extracting the whole <body> contents.\n",
      "No article content found for https://www.benzinga.com/news/25/02/43713534/steve-jobs-feared-his-porsche-911-would-display-his-wealth-and-cost-him-a-20-million-deal-so-he-scrambled-to, extracting the whole <body> contents.\n",
      "No article content found for https://www.benzinga.com/general/social-media/25/02/43703296/apple-is-back-with-ads-on-x-after-halting-platform-spending-in-2023-over-elon-musks-posts, extracting the whole <body> contents.\n",
      "No article content found for https://www.benzinga.com/25/02/43703290/trump-white-house-bans-reporter-over-gulf-of-america-conflict, extracting the whole <body> contents.\n",
      "No article content found for https://www.benzinga.com/insights/news/25/02/43696281/exploring-the-competitive-space-apple-versus-industry-peers-in-technology-hardware-storage-amp-peri, extracting the whole <body> contents.\n",
      "No article content found for https://www.zacks.com/commentary/2414880/ignore-the-headlines-buy-chinese-stocks, extracting the whole <body> contents.\n",
      "No article content found for https://www.benzinga.com/markets/25/02/43692026/apples-next-big-bet-tim-cook-led-company-is-exploring-humanoid-as-well-as-non-humanoid-robots-for-smart-h, extracting the whole <body> contents.\n",
      "No article content found for https://www.benzinga.com/markets/emerging-markets/25/02/43691826/not-just-deepseek-chinas-ai-landscape-heats-up-as-baidu-launches-free-ernie-bot, extracting the whole <body> contents.\n",
      "No article content found for https://www.zacks.com/stock/news/2415146/buy-3-tech-mutual-funds-for-ai-and-semiconductor-growth, extracting the whole <body> contents.\n",
      "No article content found for https://www.zacks.com/stock/news/2415087/should-vanguard-russell-1000-growth-etf-vong-be-on-your-investing-radar, extracting the whole <body> contents.\n",
      "No article content found for https://www.zacks.com/stock/news/2415094/should-schwab-fundamental-us-large-company-etf-fndx-be-on-your-investing-radar, extracting the whole <body> contents.\n",
      "No article content found for https://www.zacks.com/stock/news/2415083/the-zacks-analyst-blog-apple-microsoft-alphabet-and-amazon, extracting the whole <body> contents.\n",
      "No article content found for https://www.benzinga.com/markets/25/02/43683976/apple-intelligence-rollout-in-china-and-europe-to-boost-iphone-sales-says-deepwaters-gene-munster, extracting the whole <body> contents.\n",
      "No article content found for https://www.benzinga.com/media/25/02/43676475/softbank-backed-arm-holdings-155-post-ipo-surge-bolstered-by-ai-growth-and-smartphone-integration, extracting the whole <body> contents.\n",
      "No article content found for https://www.benzinga.com/insights/options/25/02/43671869/decoding-apples-options-activity-whats-the-big-picture, extracting the whole <body> contents.\n",
      "No article content found for https://www.benzinga.com/etfs/specialty-etfs/25/02/43671778/why-the-mags-etf-has-remained-flat-year-to-date-despite-some-strong-performers, extracting the whole <body> contents.\n",
      "No article content found for https://www.benzinga.com/analyst-ratings/price-target/25/02/43668203/apple-teams-up-with-alibaba-for-ai-analyst-says-edge-device-integration-could-boost-, extracting the whole <body> contents.\n",
      "No article content found for https://www.zacks.com/stock/news/2414741/apple-down-7-year-to-date-on-iphone-weakness-buy-or-hold-the-stock, extracting the whole <body> contents.\n",
      "No article content found for https://www.benzinga.com/insights/news/25/02/43660694/market-analysis-apple-and-competitors-in-technology-hardware-storage-amp-peripherals-industry, extracting the whole <body> contents.\n"
     ]
    }
   ],
   "execution_count": 130
  },
  {
   "metadata": {},
   "cell_type": "code",
   "source": [
    "# url = \"https://www.benzinga.com/25/02/43631776/apple-teams-up-with-alibaba-for-ai-innovation-in-china-submits-ai-features-for-regulatory-approval\"  \n",
    "# response = requests.get(url)\n",
    "# soup = BeautifulSoup(response.text, \"html.parser\")\n",
    "# \n",
    "# # taking a look at all classes of tags on a web page \n",
    "# for tag in soup.find_all(True):  \n",
    "#     if tag.has_attr(\"class\"):\n",
    "#         print(tag.name, tag[\"class\"])  "
   ],
   "id": "726653fd739a829b",
   "outputs": [],
   "execution_count": null
  },
  {
   "metadata": {
    "ExecuteTime": {
     "end_time": "2025-02-14T12:55:37.406629Z",
     "start_time": "2025-02-14T12:55:37.386935Z"
    }
   },
   "cell_type": "code",
   "source": [
    "# splitting the news texts\n",
    "text_splitter = RecursiveCharacterTextSplitter(\n",
    "    chunk_size=500,  # chunk size (characters)\n",
    "    chunk_overlap=50,  # chunk overlap (characters)\n",
    "    add_start_index=True,  # track index in original document\n",
    ")\n",
    "all_splits = text_splitter.split_documents(docs)\n",
    "\n",
    "print(f\"Split {len(docs)} blog posts into {len(all_splits)} sub-documents.\")"
   ],
   "id": "903d52365b962e85",
   "outputs": [
    {
     "name": "stdout",
     "output_type": "stream",
     "text": [
      "Split 30 blog posts into 209 sub-documents.\n"
     ]
    }
   ],
   "execution_count": 131
  },
  {
   "metadata": {
    "ExecuteTime": {
     "end_time": "2025-02-14T12:55:37.437475Z",
     "start_time": "2025-02-14T12:55:37.430250Z"
    }
   },
   "cell_type": "code",
   "source": "print(all_splits[0])",
   "id": "c3d92ee43c7f8c94",
   "outputs": [
    {
     "name": "stdout",
     "output_type": "stream",
     "text": [
      "page_content='TikTok, the Chinese short video platform, has reappeared on theAppleandGoogleapp stores following a month long hiatus.\n",
      "What Happened  TikTok officially announced that the app was restored to the app stores ofApple Inc.AAPLandAlphabet Inc.GOOGLGOOGon Thursday evening. The app was taken down on Jan 18, in response to TikTok s decision to temporarily halt its services in the U.S. due to a new national security law.' metadata={'source': 'https://www.benzinga.com/markets/25/02/43724471/tiktok-returns-to-apple-and-google-app-stores-after-a-month-long-hiatus', 'title': 'TikTok Returns To Apple And Google App Stores After A Month-Long Hiatus - Alphabet  ( NASDAQ:GOOG ) , Apple  ( NASDAQ:AAPL ) ', 'time_published': '14 February 2025, 11:07:32', 'start_index': 0}\n"
     ]
    }
   ],
   "execution_count": 132
  },
  {
   "metadata": {
    "ExecuteTime": {
     "end_time": "2025-02-14T13:07:51.480485Z",
     "start_time": "2025-02-14T13:01:53.786158Z"
    }
   },
   "cell_type": "code",
   "source": [
    "# adding the documents to the vector store\n",
    "for split in all_splits:\n",
    "    print(\"Adding a split...\")\n",
    "    vector_store.add_documents([split])"
   ],
   "id": "62664653a3840de",
   "outputs": [
    {
     "name": "stdout",
     "output_type": "stream",
     "text": [
      "Adding a split...\n",
      "Adding a split...\n",
      "Adding a split...\n",
      "Adding a split...\n",
      "Adding a split...\n",
      "Adding a split...\n",
      "Adding a split...\n",
      "Adding a split...\n",
      "Adding a split...\n",
      "Adding a split...\n",
      "Adding a split...\n",
      "Adding a split...\n",
      "Adding a split...\n",
      "Adding a split...\n",
      "Adding a split...\n",
      "Adding a split...\n",
      "Adding a split...\n",
      "Adding a split...\n",
      "Adding a split...\n",
      "Adding a split...\n",
      "Adding a split...\n",
      "Adding a split...\n",
      "Adding a split...\n",
      "Adding a split...\n",
      "Adding a split...\n",
      "Adding a split...\n",
      "Adding a split...\n",
      "Adding a split...\n",
      "Adding a split...\n",
      "Adding a split...\n",
      "Adding a split...\n",
      "Adding a split...\n",
      "Adding a split...\n",
      "Adding a split...\n",
      "Adding a split...\n",
      "Adding a split...\n",
      "Adding a split...\n",
      "Adding a split...\n",
      "Adding a split...\n",
      "Adding a split...\n",
      "Adding a split...\n",
      "Adding a split...\n",
      "Adding a split...\n",
      "Adding a split...\n",
      "Adding a split...\n",
      "Adding a split...\n",
      "Adding a split...\n",
      "Adding a split...\n",
      "Adding a split...\n",
      "Adding a split...\n",
      "Adding a split...\n",
      "Adding a split...\n",
      "Adding a split...\n",
      "Adding a split...\n",
      "Adding a split...\n",
      "Adding a split...\n",
      "Adding a split...\n",
      "Adding a split...\n",
      "Adding a split...\n",
      "Adding a split...\n",
      "Adding a split...\n",
      "Adding a split...\n",
      "Adding a split...\n",
      "Adding a split...\n",
      "Adding a split...\n",
      "Adding a split...\n",
      "Adding a split...\n",
      "Adding a split...\n",
      "Adding a split...\n",
      "Adding a split...\n",
      "Adding a split...\n",
      "Adding a split...\n",
      "Adding a split...\n",
      "Adding a split...\n",
      "Adding a split...\n",
      "Adding a split...\n",
      "Adding a split...\n",
      "Adding a split...\n",
      "Adding a split...\n",
      "Adding a split...\n",
      "Adding a split...\n",
      "Adding a split...\n",
      "Adding a split...\n",
      "Adding a split...\n",
      "Adding a split...\n",
      "Adding a split...\n",
      "Adding a split...\n",
      "Adding a split...\n",
      "Adding a split...\n",
      "Adding a split...\n",
      "Adding a split...\n",
      "Adding a split...\n",
      "Adding a split...\n",
      "Adding a split...\n",
      "Adding a split...\n",
      "Adding a split...\n",
      "Adding a split...\n",
      "Adding a split...\n",
      "Adding a split...\n",
      "Adding a split...\n",
      "Adding a split...\n",
      "Adding a split...\n",
      "Adding a split...\n",
      "Adding a split...\n",
      "Adding a split...\n",
      "Adding a split...\n",
      "Adding a split...\n",
      "Adding a split...\n",
      "Adding a split...\n",
      "Adding a split...\n",
      "Adding a split...\n",
      "Adding a split...\n",
      "Adding a split...\n",
      "Adding a split...\n",
      "Adding a split...\n",
      "Adding a split...\n",
      "Adding a split...\n",
      "Adding a split...\n",
      "Adding a split...\n",
      "Adding a split...\n",
      "Adding a split...\n",
      "Adding a split...\n",
      "Adding a split...\n",
      "Adding a split...\n",
      "Adding a split...\n",
      "Adding a split...\n",
      "Adding a split...\n",
      "Adding a split...\n",
      "Adding a split...\n",
      "Adding a split...\n",
      "Adding a split...\n",
      "Adding a split...\n",
      "Adding a split...\n",
      "Adding a split...\n",
      "Adding a split...\n",
      "Adding a split...\n",
      "Adding a split...\n",
      "Adding a split...\n",
      "Adding a split...\n",
      "Adding a split...\n",
      "Adding a split...\n",
      "Adding a split...\n",
      "Adding a split...\n",
      "Adding a split...\n",
      "Adding a split...\n",
      "Adding a split...\n",
      "Adding a split...\n",
      "Adding a split...\n",
      "Adding a split...\n",
      "Adding a split...\n",
      "Adding a split...\n",
      "Adding a split...\n",
      "Adding a split...\n",
      "Adding a split...\n",
      "Adding a split...\n",
      "Adding a split...\n",
      "Adding a split...\n",
      "Adding a split...\n",
      "Adding a split...\n",
      "Adding a split...\n",
      "Adding a split...\n",
      "Adding a split...\n",
      "Adding a split...\n",
      "Adding a split...\n",
      "Adding a split...\n",
      "Adding a split...\n",
      "Adding a split...\n",
      "Adding a split...\n",
      "Adding a split...\n",
      "Adding a split...\n",
      "Adding a split...\n",
      "Adding a split...\n",
      "Adding a split...\n",
      "Adding a split...\n",
      "Adding a split...\n",
      "Adding a split...\n",
      "Adding a split...\n",
      "Adding a split...\n",
      "Adding a split...\n",
      "Adding a split...\n",
      "Adding a split...\n",
      "Adding a split...\n",
      "Adding a split...\n",
      "Adding a split...\n",
      "Adding a split...\n",
      "Adding a split...\n",
      "Adding a split...\n",
      "Adding a split...\n",
      "Adding a split...\n",
      "Adding a split...\n",
      "Adding a split...\n",
      "Adding a split...\n",
      "Adding a split...\n",
      "Adding a split...\n",
      "Adding a split...\n",
      "Adding a split...\n",
      "Adding a split...\n",
      "Adding a split...\n",
      "Adding a split...\n",
      "Adding a split...\n",
      "Adding a split...\n",
      "Adding a split...\n",
      "Adding a split...\n",
      "Adding a split...\n",
      "Adding a split...\n",
      "Adding a split...\n",
      "Adding a split...\n",
      "Adding a split...\n",
      "Adding a split...\n"
     ]
    }
   ],
   "execution_count": 134
  },
  {
   "metadata": {},
   "cell_type": "markdown",
   "source": "## Retrieval and Generation",
   "id": "17b4637f0284b9ad"
  },
  {
   "metadata": {},
   "cell_type": "code",
   "outputs": [],
   "execution_count": null,
   "source": [
    "from typing_extensions import Annotated\n",
    "from typing_extensions import List, TypedDict\n",
    "from langchain_core.tools import tool\n",
    "from langchain_core.messages import SystemMessage\n",
    "from langgraph.prebuilt import ToolNode, tools_condition\n",
    "from langgraph.graph import MessagesState\n",
    "from IPython.display import Image, display\n"
   ],
   "id": "e8bb123d17e2e907"
  },
  {
   "metadata": {},
   "cell_type": "code",
   "source": [
    "# from langchain import hub\n",
    "# \n",
    "# prompt = hub.pull(\"rlm/rag-prompt\")\n",
    "# print(prompt)"
   ],
   "id": "8816a40215c46dd0",
   "outputs": [],
   "execution_count": null
  },
  {
   "metadata": {
    "ExecuteTime": {
     "end_time": "2025-02-14T14:38:02.070095Z",
     "start_time": "2025-02-14T14:38:02.050879Z"
    }
   },
   "cell_type": "code",
   "source": [
    "class SearchResponse(TypedDict):\n",
    "    \"\"\"Structured response containing the answer and references.\"\"\"\n",
    "    answer: Annotated[str, ..., \"Generated response to the search query.\"] = \"No answer.\"\n",
    "    sources: Annotated[List[str], ..., \"List of sources used for the answer and their publication dates.\"] = []"
   ],
   "id": "c91561812e63c4cf",
   "outputs": [],
   "execution_count": 194
  },
  {
   "metadata": {},
   "cell_type": "code",
   "source": [
    "# from langchain_core.documents import Document\n",
    "# \n",
    "# # defining the state\n",
    "# class State(TypedDict):\n",
    "#     question: str\n",
    "#     query: Search\n",
    "#     context: List[Document]\n",
    "#     answer: str\n"
   ],
   "id": "70964fb558a0e4bf",
   "outputs": [],
   "execution_count": null
  },
  {
   "metadata": {},
   "cell_type": "code",
   "source": [
    "# # from langchain_core.tools import tool\n",
    "# from langgraph.graph import START, StateGraph\n",
    "# \n",
    "# def analyze_query(state: State):\n",
    "#     # binding the output schema to the model\n",
    "#     structured_llm = llm.with_structured_output(Search)\n",
    "#     query = structured_llm.invoke(state[\"question\"])\n",
    "# \n",
    "#     print(f\"Generated query: {query}\") \n",
    "#     return {\"query\": query}\n",
    "# \n",
    "# def retrieve(state: State):\n",
    "#     query = state[\"query\"]\n",
    "#     # print(query)\n",
    "#     pattern = re.compile(re.escape(query[\"source\"]), re.IGNORECASE)  # building a regular expr to search for sources\n",
    "#     # print(type(query[\"query\"]))\n",
    "#     retrieved_docs = vector_store.similarity_search(\n",
    "#         query[\"query\"],\n",
    "#         filter=lambda doc: bool(pattern.search(doc.metadata.get(\"source\", \"\"))),  # matching to the pattern\n",
    "#         # filter={\"source\":{\"$contains\":query[\"source\"]}}\n",
    "#     )\n",
    "#     print(retrieved_docs)\n",
    "#     return {\"context\": retrieved_docs}\n",
    "# \n",
    "# def generate(state: State):\n",
    "#     docs_content = \"\\n\\n\".join(doc.page_content for doc in state[\"context\"])\n",
    "#     messages = custom_rag_prompt.invoke({\"question\": state[\"question\"], \"context\": docs_content})\n",
    "#     response = llm.invoke(messages)\n",
    "#     return {\"answer\": response.content}\n",
    "# \n",
    "# # the first graph try\n",
    "# graph_builder = StateGraph(State).add_sequence([analyze_query, retrieve, generate])  # adding functions as graph nodes\n",
    "# graph_builder.add_edge(START, \"analyze_query\") # setting the first function to execute\n",
    "# graph = graph_builder.compile()\n",
    "# \n",
    "# for step in graph.stream(\n",
    "#     {\"question\": \"What has Apple become known for in source investors?\"},\n",
    "#     stream_mode=\"updates\",\n",
    "# ):\n",
    "#     print(f\"{step}\\n\\n----------------\\n\")"
   ],
   "id": "3a957c1df1c94cab",
   "outputs": [],
   "execution_count": null
  },
  {
   "metadata": {
    "ExecuteTime": {
     "end_time": "2025-02-14T16:42:39.184973Z",
     "start_time": "2025-02-14T16:42:39.137748Z"
    }
   },
   "cell_type": "code",
   "source": [
    "@tool\n",
    "def retrieve(query: str) -> SearchResponse:\n",
    "    \"\"\"\n",
    "    Perform a similarity search on the vector store to retrieve relevant documents.\n",
    "\n",
    "    Args:\n",
    "        query (str): The search query provided by the user.\n",
    "\n",
    "    Returns:\n",
    "        SearchResponse: A response object containing the retrieved document content and their sources with publication dates.\n",
    "\n",
    "    Raises:\n",
    "        ValueError: If no documents are retrieved.\n",
    "    \"\"\"\n",
    "    print(f\"...retrieving using query '{query}'...\")\n",
    "    retrieved_docs = vector_store.similarity_search(query,\n",
    "                                                    k=2)\n",
    "    \n",
    "    if not retrieved_docs:\n",
    "        print(\"Warning: No documents retrieved.\")\n",
    "        \n",
    "    serialized = \"\\n\\n\".join(\n",
    "        doc.page_content\n",
    "        for doc in retrieved_docs\n",
    "    )\n",
    "\n",
    "    # getting the source links and publication dates\n",
    "    sources = [\n",
    "    f\"{doc.metadata.get('source', 'Source not defined')} (Published: {doc.metadata.get('time_published', 'Unknown')})\"\n",
    "    for doc in retrieved_docs]\n",
    "    \n",
    "    response = SearchResponse(answer=serialized, sources=sources)\n",
    "    # print(\"Response: \", response)\n",
    "    return response\n",
    "\n",
    "# Step 1: Generate an AIMessage that may include a tool-call to be sent.\n",
    "def query_or_respond(state: MessagesState):\n",
    "    \"\"\"\n",
    "    Generate a tool call to retrieve information or directly respond based on the conversation state.\n",
    "\n",
    "    Args:\n",
    "        state (MessagesState): The current state of the conversation containing previous messages.\n",
    "\n",
    "    Returns:\n",
    "        dict: A dictionary containing updated messages with the assistant's response.\n",
    "\n",
    "    Raises:\n",
    "        ValueError: If no messages are found in the conversation state or the retrieval tool fails.\n",
    "    \"\"\"\n",
    "    llm_with_tools = llm.bind_tools([retrieve])                     \n",
    "    messages = state.get(\"messages\")\n",
    "    if not messages:\n",
    "        raise ValueError(\"No messages found in state\")\n",
    "    \n",
    "    # forcing retrieval while answering the first user's question\n",
    "    if len(messages) == 1 and messages[0].type == \"human\":\n",
    "        query = messages[0].content\n",
    "        retrieve_response = retrieve.invoke(query)\n",
    "        if retrieve_response is None:\n",
    "           raise ValueError(\"Retrieve tool returned None\")\n",
    "\n",
    "        content = (f\"Answer: {retrieve_response.get('answer', '')}\\n\"\n",
    "    f\"Sources with publication dates: {', '.join(retrieve_response.get('sources', []))}\")\n",
    "        \n",
    "        return {\"messages\": [{\"role\": \"assistant\", \"content\": content}]}\n",
    "    \n",
    "    # adding a system message to promote retrieve() calling\n",
    "    # system_message = SystemMessage(\n",
    "    # content=\"You must call the `retrieve` tool to get information before generating a response. Do not answer without retrieving context first.\")\n",
    "    system_message = SystemMessage(\n",
    "        content=\"You must call the `retrieve` tool before generating a response unless the answer is clearly known. Do not guess without retrieved context.\"\n",
    "    )\n",
    "\n",
    "    messages = [system_message] + messages\n",
    "    response = llm_with_tools.invoke(messages)\n",
    "    \n",
    "    # reformatting SearchResponse to MessageState\n",
    "#     if hasattr(response, \"content\"):\n",
    "#         print(f\"Reformatting the response... {response}\")\n",
    "#         content = (\n",
    "#     f\"Answer: {response.get('answer', '')}\\n\"\n",
    "#     f\"Sources with publication dates: {', '.join(response.get('sources', []))}\"\n",
    "# )\n",
    "# \n",
    "#         response = {\"role\": \"assistant\", \"content\": content}\n",
    "#     else:\n",
    "#         raise ValueError(f\"Unexpected response format {type(response)}\")\n",
    "\n",
    "    # print(\"Structured Response:\", response)\n",
    "    # MessagesState appends messages to state instead of overwriting\n",
    "    return {\"messages\": [response]}\n",
    "\n",
    "# Step 2: Execute the retrieval.\n",
    "tools = ToolNode([retrieve])\n",
    "\n",
    "# Step 3: Generate a response using the retrieved content.\n",
    "def generate(state: MessagesState):\n",
    "    \"\"\"Generate answer based on retrieved tool messages and user queries.\n",
    "\n",
    "    Args:\n",
    "        state (MessagesState): The current conversation state containing retrieved results and user input.\n",
    "\n",
    "    Returns:\n",
    "        dict: A dictionary containing the assistant's answer message.\n",
    "    \"\"\"\n",
    "    print(\"Generating answer...\")\n",
    "    \n",
    "    # getting generated ToolMessages\n",
    "    recent_tool_messages = []\n",
    "    for message in reversed(state[\"messages\"]):\n",
    "        if message.type == \"tool\":\n",
    "            recent_tool_messages.append(message)\n",
    "        else:\n",
    "            break\n",
    "    tool_messages = recent_tool_messages[::-1]\n",
    "\n",
    "    # formatting retrieved documents into a prompt\n",
    "    docs_content = \"\\n\\n\".join(doc.content for doc in tool_messages)\n",
    "    system_message_content = (\n",
    "        \"You are an assistant for question-answering tasks. \"\n",
    "        \"Use the following pieces of retrieved context to answer \"\n",
    "        \"the question. If you don't know the answer, just say that you don't know.\"\n",
    "        \"Use three sentences maximum and keep the \"\n",
    "        \"answer concise.\"\n",
    "        \"\\n\\n\"\n",
    "        f\"{docs_content}\"\n",
    "    )\n",
    "    conversation_messages = [\n",
    "        message\n",
    "        for message in state[\"messages\"]\n",
    "        if message.type in (\"human\", \"system\")\n",
    "        or (message.type == \"ai\" and not message.tool_calls)\n",
    "    ]\n",
    "    prompt = [SystemMessage(system_message_content)] + conversation_messages\n",
    "    # print(\"Prompt: \", prompt)\n",
    "    \n",
    "    # generating a response\n",
    "    response = llm.invoke(prompt)\n",
    "    return {\"messages\": [response]}"
   ],
   "id": "6bef7c18f7c3103",
   "outputs": [],
   "execution_count": 270
  },
  {
   "metadata": {
    "ExecuteTime": {
     "end_time": "2025-02-14T16:42:42.659316Z",
     "start_time": "2025-02-14T16:42:42.618154Z"
    }
   },
   "cell_type": "code",
   "source": [
    "# intializing memory \n",
    "memory = MemorySaver()\n",
    "\n",
    "# building a chain style graph\n",
    "graph_builder = StateGraph(MessagesState)\n",
    "\n",
    "graph_builder.add_node(query_or_respond)\n",
    "graph_builder.add_node(tools)\n",
    "graph_builder.add_node(generate)\n",
    "\n",
    "graph_builder.set_entry_point(\"query_or_respond\")\n",
    "graph_builder.add_conditional_edges(\n",
    "    \"query_or_respond\",\n",
    "    tools_condition,\n",
    "    {END: END, \"tools\": \"tools\"},\n",
    ")\n",
    "# graph_builder.add_edge(\"query_or_respond\", \"tools\")  # unconditioned edge\n",
    "graph_builder.add_edge(\"tools\", \"generate\")\n",
    "graph_builder.add_edge(\"generate\", END)\n",
    "\n",
    "# compiling the graph with memory\n",
    "graph = graph_builder.compile(checkpointer=memory)"
   ],
   "id": "7b173dd0ba13dd61",
   "outputs": [],
   "execution_count": 271
  },
  {
   "metadata": {
    "ExecuteTime": {
     "end_time": "2025-02-14T15:49:29.392257Z",
     "start_time": "2025-02-14T15:49:29.363541Z"
    }
   },
   "cell_type": "code",
   "source": "tools_condition",
   "id": "711c942bb53d6abf",
   "outputs": [
    {
     "data": {
      "text/plain": [
       "<function __main__.tools_condition(state)>"
      ]
     },
     "execution_count": 215,
     "metadata": {},
     "output_type": "execute_result"
    }
   ],
   "execution_count": 215
  },
  {
   "metadata": {
    "ExecuteTime": {
     "end_time": "2025-02-14T16:32:21.971069Z",
     "start_time": "2025-02-14T16:32:21.068394Z"
    }
   },
   "cell_type": "code",
   "source": "display(Image(graph.get_graph().draw_mermaid_png()))",
   "id": "e200ed12df0f7fc3",
   "outputs": [
    {
     "data": {
      "image/png": "[encoded data removed]",
      "text/plain": [
       "<IPython.core.display.Image object>"
      ]
     },
     "metadata": {},
     "output_type": "display_data"
    }
   ],
   "execution_count": 258
  },
  {
   "metadata": {
    "ExecuteTime": {
     "end_time": "2025-02-14T16:31:15.411028Z",
     "start_time": "2025-02-14T16:31:15.380979Z"
    }
   },
   "cell_type": "code",
   "source": [
    "def ask_chain(graph, input_message):\n",
    "    \"\"\"\n",
    "    Executes the conversation chain for a user input and streams the results.\n",
    "\n",
    "    Args:\n",
    "        graph (StateGraph): The compiled state graph representing the conversation flow.\n",
    "        input_message (str): The user's message to process.\n",
    "\n",
    "    Yields:\n",
    "        None: Prints each step's response from the assistant in real-time.\n",
    "    \"\"\"\n",
    "    for step in graph.stream(\n",
    "            {\"messages\": [{\"role\": \"user\", \"content\": input_message}]},\n",
    "            stream_mode=\"values\",\n",
    "            config=config,  # passing the context\n",
    "        ):\n",
    "        step[\"messages\"][-1].pretty_print()"
   ],
   "id": "6ac4504a05677b7d",
   "outputs": [],
   "execution_count": 253
  },
  {
   "metadata": {
    "ExecuteTime": {
     "end_time": "2025-02-14T16:42:48.430297Z",
     "start_time": "2025-02-14T16:42:45.494955Z"
    }
   },
   "cell_type": "code",
   "source": [
    "# input_message = \"Does it increase in its value according to the news?\"\n",
    "input_message = \"What has Apple become known for?\"\n",
    "# input_message = \"What represented 56% of fiscal first-quarter sales of Apple?\"\n",
    "\n",
    "ask_chain(graph, input_message)"
   ],
   "id": "fddeddb13856e1c",
   "outputs": [
    {
     "name": "stdout",
     "output_type": "stream",
     "text": [
      "================================\u001B[1m Human Message \u001B[0m=================================\n",
      "\n",
      "What has Apple become known for?\n",
      "...retrieving using query 'What has Apple become known for?'...\n",
      "==================================\u001B[1m Ai Message \u001B[0m==================================\n",
      "\n",
      "Answer: reality. The firm designs its own software and semiconductors while working with subcontractors like Foxconn and TSMC to build its products and chips. Slightly less than half of Apple s sales come directly through its flagship stores, with a majority of sales coming indirectly through partnerships and distribution.\n",
      "\n",
      "reality. The firm designs its own software and semiconductors while working with subcontractors like Foxconn and TSMC to build its products and chips. Slightly less than half of Apple s sales come directly through its flagship stores, with a majority of sales coming indirectly through partnerships and distribution.\n",
      "Sources with publication dates: https://www.benzinga.com/insights/options/25/02/43671869/decoding-apples-options-activity-whats-the-big-picture (Published: 12 February 2025, 19:45:35), https://www.benzinga.com/insights/news/25/02/43660694/market-analysis-apple-and-competitors-in-technology-hardware-storage-amp-peripherals-industry (Published: 12 February 2025, 15:00:52)\n"
     ]
    }
   ],
   "execution_count": 272
  },
  {
   "metadata": {
    "ExecuteTime": {
     "end_time": "2025-02-14T16:44:29.724695Z",
     "start_time": "2025-02-14T16:42:48.463419Z"
    }
   },
   "cell_type": "code",
   "source": [
    "input_message = \"Does it increase in its value according to the news?\"\n",
    "\n",
    "ask_chain(graph, input_message)"
   ],
   "id": "cf36fb87693c4d19",
   "outputs": [
    {
     "name": "stdout",
     "output_type": "stream",
     "text": [
      "================================\u001B[1m Human Message \u001B[0m=================================\n",
      "\n",
      "Does it increase in its value according to the news?\n",
      "==================================\u001B[1m Ai Message \u001B[0m==================================\n",
      "Tool Calls:\n",
      "  retrieve (5adb1d70-79df-4c96-aa00-7b260db7ecb0)\n",
      " Call ID: 5adb1d70-79df-4c96-aa00-7b260db7ecb0\n",
      "  Args:\n",
      "    query: Apple stock performance based on news\n",
      "...retrieving using query 'Apple stock performance based on news'...\n",
      "=================================\u001B[1m Tool Message \u001B[0m=================================\n",
      "Name: retrieve\n",
      "\n",
      "{\"answer\": \"our objective is to provide valuable insights for investors and offer a deeper understanding of company s performance in the industry.\\n\\nZacks Equity ResearchFebruary 13, 2025\\nPRSCX Quick QuotePRSCXFSELX Quick QuoteFSELXKTCAX Quick QuoteKTCAX\\nBetter trading startshere.\\nYou follow Mutual Fund Commentary  edit\\nYou follow Zacks Equity Research  edit\\nZacks Equity Research\\nMutual Fund Commentary\", \"sources\": [\"https://www.benzinga.com/insights/news/25/02/43660694/market-analysis-apple-and-competitors-in-technology-hardware-storage-amp-peripherals-industry (Published: 12 February 2025, 15:00:52)\", \"https://www.zacks.com/stock/news/2415146/buy-3-tech-mutual-funds-for-ai-and-semiconductor-growth (Published: 13 February 2025, 12:52:00)\"]}\n",
      "Generating answer...\n",
      "==================================\u001B[1m Ai Message \u001B[0m==================================\n",
      "\n",
      " The news does not provide specific information on whether Apple's value increases or decreases. However, the sources suggest that investors might find valuable insights for understanding company performance in the technology hardware, storage, and peripherals industry, which could potentially impact its value.\n"
     ]
    }
   ],
   "execution_count": 273
  },
  {
   "metadata": {
    "ExecuteTime": {
     "end_time": "2025-02-14T16:45:13.816565Z",
     "start_time": "2025-02-14T16:44:29.757909Z"
    }
   },
   "cell_type": "code",
   "source": [
    "input_message = \"How is TikTok connected to Apple?\"\n",
    "\n",
    "ask_chain(graph, input_message)"
   ],
   "id": "7d8906d8a42d892d",
   "outputs": [
    {
     "name": "stdout",
     "output_type": "stream",
     "text": [
      "================================\u001B[1m Human Message \u001B[0m=================================\n",
      "\n",
      "How is TikTok connected to Apple?\n",
      "==================================\u001B[1m Ai Message \u001B[0m==================================\n",
      "\n",
      " The connection between TikTok and Apple primarily revolves around the platform's availability on iOS devices, as well as the partnership between the two companies for app development.\n",
      "\n",
      "TikTok is a popular short-form video sharing social media app that allows users to create and share videos with music and effects. It gained significant popularity worldwide, especially among younger audiences.\n",
      "\n",
      "Apple plays a role in the distribution of TikTok on its iOS devices through the App Store. Users can download and install TikTok from the App Store onto their iPhones or iPads. In addition to this, Apple and TikTok have partnered for app development, allowing TikTok creators to use Apple's ARKit technology to enhance their videos with augmented reality effects.\n",
      "\n",
      "Sources with publication dates:\n",
      "- https://www.benzinga.com/news/23/01/16548977/tiktok-is-still-growing-on-ios-devices (Published: 16 January 2023, 18:44:00)\n",
      "- https://www.benzinga.com/news/21/05/\n"
     ]
    }
   ],
   "execution_count": 274
  },
  {
   "metadata": {
    "ExecuteTime": {
     "end_time": "2025-02-14T16:46:01.735040Z",
     "start_time": "2025-02-14T16:45:13.850620Z"
    }
   },
   "cell_type": "code",
   "source": [
    "input_message = \"What represented 56% of fiscal first-quarter sales of Apple?\"\n",
    "\n",
    "ask_chain(graph, input_message)"
   ],
   "id": "69dac81f0ceaf9f5",
   "outputs": [
    {
     "name": "stdout",
     "output_type": "stream",
     "text": [
      "================================\u001B[1m Human Message \u001B[0m=================================\n",
      "\n",
      "What represented 56% of fiscal first-quarter sales of Apple?\n",
      "==================================\u001B[1m Ai Message \u001B[0m==================================\n",
      "Tool Calls:\n",
      "  retrieve (3a6b91bf-22df-4441-8b41-21f858be8308)\n",
      " Call ID: 3a6b91bf-22df-4441-8b41-21f858be8308\n",
      "  Args:\n",
      "    query: Apple fiscal first-quarter sales breakdown\n",
      "...retrieving using query 'Apple fiscal first-quarter sales breakdown'...\n",
      "=================================\u001B[1m Tool Message \u001B[0m=================================\n",
      "Name: retrieve\n",
      "\n",
      "{\"answer\": \"Zacks Equity ResearchFebruary 13, 2025\\nAAPL Quick QuoteAAPLMSFT Quick QuoteMSFTVTV Quick QuoteVTVFNDX Quick QuoteFNDXSCHD Quick QuoteSCHD\\nBetter trading startshere.\\nYou follow Style Box ETF  edit\\nYou follow Zacks Equity Research  edit\\nZacks Equity Research\\nStyle Box ETF\\n\\nZacks Equity ResearchFebruary 13, 2025\\nAAPL Quick QuoteAAPLMSFT Quick QuoteMSFTNVDA Quick QuoteNVDAQQQ Quick QuoteQQQVUG Quick QuoteVUGVONG Quick QuoteVONG\\nBetter trading startshere.\\nYou follow Style Box ETF  edit\\nYou follow Zacks Equity Research  edit\\nZacks Equity Research\\nStyle Box ETF\", \"sources\": [\"https://www.zacks.com/stock/news/2415094/should-schwab-fundamental-us-large-company-etf-fndx-be-on-your-investing-radar (Published: 13 February 2025, 11:20:06)\", \"https://www.zacks.com/stock/news/2415087/should-vanguard-russell-1000-growth-etf-vong-be-on-your-investing-radar (Published: 13 February 2025, 11:20:08)\"]}\n",
      "Generating answer...\n",
      "==================================\u001B[1m Ai Message \u001B[0m==================================\n",
      "\n",
      " The provided context does not contain information about the representation of fiscal first-quarter sales of Apple.\n"
     ]
    }
   ],
   "execution_count": 275
  },
  {
   "metadata": {
    "ExecuteTime": {
     "end_time": "2025-02-14T16:46:01.766077Z",
     "start_time": "2025-02-14T16:46:01.752939Z"
    }
   },
   "cell_type": "code",
   "source": [
    "state = graph.get_state(config).values\n",
    "\n",
    "for message in state[\"messages\"]:\n",
    "    print(message)\n",
    "    message.pretty_print()"
   ],
   "id": "8616e7789ac063d8",
   "outputs": [
    {
     "name": "stdout",
     "output_type": "stream",
     "text": [
      "content='What has Apple become known for?' additional_kwargs={} response_metadata={} id='7c5364c9-559d-42f7-8164-fbe5c5f88ceb'\n",
      "================================\u001B[1m Human Message \u001B[0m=================================\n",
      "\n",
      "What has Apple become known for?\n",
      "content='Answer: reality. The firm designs its own software and semiconductors while working with subcontractors like Foxconn and TSMC to build its products and chips. Slightly less than half of Apple s sales come directly through its flagship stores, with a majority of sales coming indirectly through partnerships and distribution.\\n\\nreality. The firm designs its own software and semiconductors while working with subcontractors like Foxconn and TSMC to build its products and chips. Slightly less than half of Apple s sales come directly through its flagship stores, with a majority of sales coming indirectly through partnerships and distribution.\\nSources with publication dates: https://www.benzinga.com/insights/options/25/02/43671869/decoding-apples-options-activity-whats-the-big-picture (Published: 12 February 2025, 19:45:35), https://www.benzinga.com/insights/news/25/02/43660694/market-analysis-apple-and-competitors-in-technology-hardware-storage-amp-peripherals-industry (Published: 12 February 2025, 15:00:52)' additional_kwargs={} response_metadata={} id='bd2ed72c-f3b6-48e3-82ec-b9653b90c7c9'\n",
      "==================================\u001B[1m Ai Message \u001B[0m==================================\n",
      "\n",
      "Answer: reality. The firm designs its own software and semiconductors while working with subcontractors like Foxconn and TSMC to build its products and chips. Slightly less than half of Apple s sales come directly through its flagship stores, with a majority of sales coming indirectly through partnerships and distribution.\n",
      "\n",
      "reality. The firm designs its own software and semiconductors while working with subcontractors like Foxconn and TSMC to build its products and chips. Slightly less than half of Apple s sales come directly through its flagship stores, with a majority of sales coming indirectly through partnerships and distribution.\n",
      "Sources with publication dates: https://www.benzinga.com/insights/options/25/02/43671869/decoding-apples-options-activity-whats-the-big-picture (Published: 12 February 2025, 19:45:35), https://www.benzinga.com/insights/news/25/02/43660694/market-analysis-apple-and-competitors-in-technology-hardware-storage-amp-peripherals-industry (Published: 12 February 2025, 15:00:52)\n",
      "content='Does it increase in its value according to the news?' additional_kwargs={} response_metadata={} id='569da404-9b38-477e-acf0-7d567652dfbe'\n",
      "================================\u001B[1m Human Message \u001B[0m=================================\n",
      "\n",
      "Does it increase in its value according to the news?\n",
      "content='' additional_kwargs={} response_metadata={'model': 'mistral', 'created_at': '2025-02-14T16:43:18.2531246Z', 'done': True, 'done_reason': 'stop', 'total_duration': 29756675400, 'load_duration': 18337700, 'prompt_eval_count': 412, 'prompt_eval_duration': 6497000000, 'eval_count': 119, 'eval_duration': 23230000000, 'message': {'role': 'assistant', 'content': '', 'images': None, 'tool_calls': None}} id='run-d3767e46-96ac-4ecd-aaf0-a861ac2eee79-0' tool_calls=[{'name': 'retrieve', 'args': {'query': 'Apple stock performance based on news'}, 'id': '5adb1d70-79df-4c96-aa00-7b260db7ecb0', 'type': 'tool_call'}] usage_metadata={'input_tokens': 412, 'output_tokens': 119, 'total_tokens': 531}\n",
      "==================================\u001B[1m Ai Message \u001B[0m==================================\n",
      "Tool Calls:\n",
      "  retrieve (5adb1d70-79df-4c96-aa00-7b260db7ecb0)\n",
      " Call ID: 5adb1d70-79df-4c96-aa00-7b260db7ecb0\n",
      "  Args:\n",
      "    query: Apple stock performance based on news\n",
      "content='{\"answer\": \"our objective is to provide valuable insights for investors and offer a deeper understanding of company s performance in the industry.\\\\n\\\\nZacks Equity ResearchFebruary 13, 2025\\\\nPRSCX Quick QuotePRSCXFSELX Quick QuoteFSELXKTCAX Quick QuoteKTCAX\\\\nBetter trading startshere.\\\\nYou follow Mutual Fund Commentary  edit\\\\nYou follow Zacks Equity Research  edit\\\\nZacks Equity Research\\\\nMutual Fund Commentary\", \"sources\": [\"https://www.benzinga.com/insights/news/25/02/43660694/market-analysis-apple-and-competitors-in-technology-hardware-storage-amp-peripherals-industry (Published: 12 February 2025, 15:00:52)\", \"https://www.zacks.com/stock/news/2415146/buy-3-tech-mutual-funds-for-ai-and-semiconductor-growth (Published: 13 February 2025, 12:52:00)\"]}' name='retrieve' id='10a9ee18-6bb3-4ad6-925a-5cc1d95bf317' tool_call_id='5adb1d70-79df-4c96-aa00-7b260db7ecb0'\n",
      "=================================\u001B[1m Tool Message \u001B[0m=================================\n",
      "Name: retrieve\n",
      "\n",
      "{\"answer\": \"our objective is to provide valuable insights for investors and offer a deeper understanding of company s performance in the industry.\\n\\nZacks Equity ResearchFebruary 13, 2025\\nPRSCX Quick QuotePRSCXFSELX Quick QuoteFSELXKTCAX Quick QuoteKTCAX\\nBetter trading startshere.\\nYou follow Mutual Fund Commentary  edit\\nYou follow Zacks Equity Research  edit\\nZacks Equity Research\\nMutual Fund Commentary\", \"sources\": [\"https://www.benzinga.com/insights/news/25/02/43660694/market-analysis-apple-and-competitors-in-technology-hardware-storage-amp-peripherals-industry (Published: 12 February 2025, 15:00:52)\", \"https://www.zacks.com/stock/news/2415146/buy-3-tech-mutual-funds-for-ai-and-semiconductor-growth (Published: 13 February 2025, 12:52:00)\"]}\n",
      "content=\" The news does not provide specific information on whether Apple's value increases or decreases. However, the sources suggest that investors might find valuable insights for understanding company performance in the technology hardware, storage, and peripherals industry, which could potentially impact its value.\" additional_kwargs={} response_metadata={'model': 'mistral', 'created_at': '2025-02-14T16:44:29.6992928Z', 'done': True, 'done_reason': 'stop', 'total_duration': 70043603200, 'load_duration': 20752000, 'prompt_eval_count': 665, 'prompt_eval_duration': 46385000000, 'eval_count': 53, 'eval_duration': 23624000000, 'message': {'role': 'assistant', 'content': '', 'images': None, 'tool_calls': None}} id='run-8edc6495-e76f-4a30-9962-6702b392d7a2-0' usage_metadata={'input_tokens': 665, 'output_tokens': 53, 'total_tokens': 718}\n",
      "==================================\u001B[1m Ai Message \u001B[0m==================================\n",
      "\n",
      " The news does not provide specific information on whether Apple's value increases or decreases. However, the sources suggest that investors might find valuable insights for understanding company performance in the technology hardware, storage, and peripherals industry, which could potentially impact its value.\n",
      "content='How is TikTok connected to Apple?' additional_kwargs={} response_metadata={} id='26ff9240-5e97-4745-8f9f-bbcf74da4dc1'\n",
      "================================\u001B[1m Human Message \u001B[0m=================================\n",
      "\n",
      "How is TikTok connected to Apple?\n",
      "content=\" The connection between TikTok and Apple primarily revolves around the platform's availability on iOS devices, as well as the partnership between the two companies for app development.\\n\\nTikTok is a popular short-form video sharing social media app that allows users to create and share videos with music and effects. It gained significant popularity worldwide, especially among younger audiences.\\n\\nApple plays a role in the distribution of TikTok on its iOS devices through the App Store. Users can download and install TikTok from the App Store onto their iPhones or iPads. In addition to this, Apple and TikTok have partnered for app development, allowing TikTok creators to use Apple's ARKit technology to enhance their videos with augmented reality effects.\\n\\nSources with publication dates:\\n- https://www.benzinga.com/news/23/01/16548977/tiktok-is-still-growing-on-ios-devices (Published: 16 January 2023, 18:44:00)\\n- https://www.benzinga.com/news/21/05/\" additional_kwargs={} response_metadata={'model': 'mistral', 'created_at': '2025-02-14T16:45:13.8025703Z', 'done': True, 'done_reason': 'length', 'total_duration': 43994933900, 'load_duration': 21694800, 'prompt_eval_count': 795, 'prompt_eval_duration': 22595000000, 'eval_count': 256, 'eval_duration': 21337000000, 'message': {'role': 'assistant', 'content': \" The connection between TikTok and Apple primarily revolves around the platform's availability on iOS devices, as well as the partnership between the two companies for app development.\\n\\nTikTok is a popular short-form video sharing social media app that allows users to create and share videos with music and effects. It gained significant popularity worldwide, especially among younger audiences.\\n\\nApple plays a role in the distribution of TikTok on its iOS devices through the App Store. Users can download and install TikTok from the App Store onto their iPhones or iPads. In addition to this, Apple and TikTok have partnered for app development, allowing TikTok creators to use Apple's ARKit technology to enhance their videos with augmented reality effects.\\n\\nSources with publication dates:\\n- https://www.benzinga.com/news/23/01/16548977/tiktok-is-still-growing-on-ios-devices (Published: 16 January 2023, 18:44:00)\\n- https://www.benzinga.com/news/21/05/\", 'images': None, 'tool_calls': None}} id='run-660e78e8-f106-42f5-b81a-e7b0f0f04281-0' usage_metadata={'input_tokens': 795, 'output_tokens': 256, 'total_tokens': 1051}\n",
      "==================================\u001B[1m Ai Message \u001B[0m==================================\n",
      "\n",
      " The connection between TikTok and Apple primarily revolves around the platform's availability on iOS devices, as well as the partnership between the two companies for app development.\n",
      "\n",
      "TikTok is a popular short-form video sharing social media app that allows users to create and share videos with music and effects. It gained significant popularity worldwide, especially among younger audiences.\n",
      "\n",
      "Apple plays a role in the distribution of TikTok on its iOS devices through the App Store. Users can download and install TikTok from the App Store onto their iPhones or iPads. In addition to this, Apple and TikTok have partnered for app development, allowing TikTok creators to use Apple's ARKit technology to enhance their videos with augmented reality effects.\n",
      "\n",
      "Sources with publication dates:\n",
      "- https://www.benzinga.com/news/23/01/16548977/tiktok-is-still-growing-on-ios-devices (Published: 16 January 2023, 18:44:00)\n",
      "- https://www.benzinga.com/news/21/05/\n",
      "content='What represented 56% of fiscal first-quarter sales of Apple?' additional_kwargs={} response_metadata={} id='bf544b94-cda4-463a-9943-8b150565f8bf'\n",
      "================================\u001B[1m Human Message \u001B[0m=================================\n",
      "\n",
      "What represented 56% of fiscal first-quarter sales of Apple?\n",
      "content='' additional_kwargs={} response_metadata={'model': 'mistral', 'created_at': '2025-02-14T16:45:43.3175714Z', 'done': True, 'done_reason': 'length', 'total_duration': 29450869300, 'load_duration': 8045100, 'prompt_eval_count': 1072, 'prompt_eval_duration': 5364000000, 'eval_count': 256, 'eval_duration': 24056000000, 'message': {'role': 'assistant', 'content': '', 'images': None, 'tool_calls': None}} id='run-801b10a6-17d3-4377-af98-a2fc1729f963-0' tool_calls=[{'name': 'retrieve', 'args': {'query': 'Apple fiscal first-quarter sales breakdown'}, 'id': '3a6b91bf-22df-4441-8b41-21f858be8308', 'type': 'tool_call'}] usage_metadata={'input_tokens': 1072, 'output_tokens': 256, 'total_tokens': 1328}\n",
      "==================================\u001B[1m Ai Message \u001B[0m==================================\n",
      "Tool Calls:\n",
      "  retrieve (3a6b91bf-22df-4441-8b41-21f858be8308)\n",
      " Call ID: 3a6b91bf-22df-4441-8b41-21f858be8308\n",
      "  Args:\n",
      "    query: Apple fiscal first-quarter sales breakdown\n",
      "content='{\"answer\": \"Zacks Equity ResearchFebruary 13, 2025\\\\nAAPL Quick QuoteAAPLMSFT Quick QuoteMSFTVTV Quick QuoteVTVFNDX Quick QuoteFNDXSCHD Quick QuoteSCHD\\\\nBetter trading startshere.\\\\nYou follow Style Box ETF  edit\\\\nYou follow Zacks Equity Research  edit\\\\nZacks Equity Research\\\\nStyle Box ETF\\\\n\\\\nZacks Equity ResearchFebruary 13, 2025\\\\nAAPL Quick QuoteAAPLMSFT Quick QuoteMSFTNVDA Quick QuoteNVDAQQQ Quick QuoteQQQVUG Quick QuoteVUGVONG Quick QuoteVONG\\\\nBetter trading startshere.\\\\nYou follow Style Box ETF  edit\\\\nYou follow Zacks Equity Research  edit\\\\nZacks Equity Research\\\\nStyle Box ETF\", \"sources\": [\"https://www.zacks.com/stock/news/2415094/should-schwab-fundamental-us-large-company-etf-fndx-be-on-your-investing-radar (Published: 13 February 2025, 11:20:06)\", \"https://www.zacks.com/stock/news/2415087/should-vanguard-russell-1000-growth-etf-vong-be-on-your-investing-radar (Published: 13 February 2025, 11:20:08)\"]}' name='retrieve' id='94d5b48c-f1a7-4f2c-af98-fb839282dec5' tool_call_id='3a6b91bf-22df-4441-8b41-21f858be8308'\n",
      "=================================\u001B[1m Tool Message \u001B[0m=================================\n",
      "Name: retrieve\n",
      "\n",
      "{\"answer\": \"Zacks Equity ResearchFebruary 13, 2025\\nAAPL Quick QuoteAAPLMSFT Quick QuoteMSFTVTV Quick QuoteVTVFNDX Quick QuoteFNDXSCHD Quick QuoteSCHD\\nBetter trading startshere.\\nYou follow Style Box ETF  edit\\nYou follow Zacks Equity Research  edit\\nZacks Equity Research\\nStyle Box ETF\\n\\nZacks Equity ResearchFebruary 13, 2025\\nAAPL Quick QuoteAAPLMSFT Quick QuoteMSFTNVDA Quick QuoteNVDAQQQ Quick QuoteQQQVUG Quick QuoteVUGVONG Quick QuoteVONG\\nBetter trading startshere.\\nYou follow Style Box ETF  edit\\nYou follow Zacks Equity Research  edit\\nZacks Equity Research\\nStyle Box ETF\", \"sources\": [\"https://www.zacks.com/stock/news/2415094/should-schwab-fundamental-us-large-company-etf-fndx-be-on-your-investing-radar (Published: 13 February 2025, 11:20:06)\", \"https://www.zacks.com/stock/news/2415087/should-vanguard-russell-1000-growth-etf-vong-be-on-your-investing-radar (Published: 13 February 2025, 11:20:08)\"]}\n",
      "content=' The provided context does not contain information about the representation of fiscal first-quarter sales of Apple.' additional_kwargs={} response_metadata={'model': 'mistral', 'created_at': '2025-02-14T16:46:01.7256217Z', 'done': True, 'done_reason': 'stop', 'total_duration': 16697420200, 'load_duration': 7912100, 'prompt_eval_count': 1110, 'prompt_eval_duration': 14953000000, 'eval_count': 21, 'eval_duration': 1724000000, 'message': {'role': 'assistant', 'content': '', 'images': None, 'tool_calls': None}} id='run-8c7cb961-c9f6-4aa6-bb9a-e162412d48b7-0' usage_metadata={'input_tokens': 1110, 'output_tokens': 21, 'total_tokens': 1131}\n",
      "==================================\u001B[1m Ai Message \u001B[0m==================================\n",
      "\n",
      " The provided context does not contain information about the representation of fiscal first-quarter sales of Apple.\n"
     ]
    }
   ],
   "execution_count": 276
  },
  {
   "metadata": {},
   "cell_type": "markdown",
   "source": "## Agent Style",
   "id": "ba96ca6f468b70f"
  },
  {
   "metadata": {
    "ExecuteTime": {
     "end_time": "2025-02-14T12:03:22.357954Z",
     "start_time": "2025-02-14T12:03:22.332522Z"
    }
   },
   "cell_type": "code",
   "source": [
    "from langgraph.prebuilt import create_react_agent\n",
    "\n",
    "agent_executor = create_react_agent(llm, [retrieve], checkpointer=memory)"
   ],
   "id": "2475cc5fef155dfe",
   "outputs": [],
   "execution_count": 80
  },
  {
   "metadata": {
    "ExecuteTime": {
     "end_time": "2025-02-14T12:05:16.286551Z",
     "start_time": "2025-02-14T12:04:23.931344Z"
    }
   },
   "cell_type": "code",
   "source": [
    "config = {\"configurable\": {\"thread_id\": \"def234\"}}\n",
    "\n",
    "input_message = (\n",
    "    \"What has Apple become known for?\\n\\n\"\n",
    "    \"Once you get the answer, look up what represented 56% of fiscal first-quarter sales of Apple.\"\n",
    ")\n",
    "\n",
    "for event in agent_executor.stream(\n",
    "    {\"messages\": [{\"role\": \"user\", \"content\": input_message}]},\n",
    "    stream_mode=\"values\",\n",
    "    config=config,\n",
    "):\n",
    "    event[\"messages\"][-1].pretty_print()"
   ],
   "id": "1a4de119621cd276",
   "outputs": [
    {
     "name": "stdout",
     "output_type": "stream",
     "text": [
      "================================\u001B[1m Human Message \u001B[0m=================================\n",
      "\n",
      "What has Apple become known for?\n",
      "\n",
      "Once you get the answer, look up what represented 56% of fiscal first-quarter sales of Apple.\n",
      "==================================\u001B[1m Ai Message \u001B[0m==================================\n",
      "Tool Calls:\n",
      "  retrieve (ccff7516-e7ab-4d86-9037-801b74e193c5)\n",
      " Call ID: ccff7516-e7ab-4d86-9037-801b74e193c5\n",
      "  Args:\n",
      "    query: What is Apple most known for?\n",
      "  retrieve (3dc9b984-0ed8-4503-b8ac-e1d4ac366e72)\n",
      " Call ID: 3dc9b984-0ed8-4503-b8ac-e1d4ac366e72\n",
      "  Args:\n",
      "    query: What represented 56 of fiscal first-quarter sales of Apple?\n",
      "Retrieving using query:  What is Apple most known for?\n",
      "Retrieving using query:  What represented 56 of fiscal first-quarter sales of Apple?\n",
      "=================================\u001B[1m Tool Message \u001B[0m=================================\n",
      "Name: retrieve\n",
      "\n",
      "{\"answer\": \"Apple\\nApple has become known for products like its namesake watch, Mac, iPad, and iPhone.  However, it's the last item that accounts for the largest portion of the company's sales. It represented 56% of fiscal first-quarter sales for the period that ended on Dec. 28, 2024.\\n\\nNike's business could warm up again in fiscal 2026 if those headwinds dissipate, but its stock still doesn't look like a bargain at 29 times forward earnings. Its forward dividend yield of 2.1% also won't attract any serious income investors.\\nWhy did Apple's stock rally?\", \"sources\": [\"https://www.fool.com/investing/2025/02/12/best-stock-to-buy-right-now-amazon-vs-apple/\", \"https://www.fool.com/investing/2025/02/11/best-stock-to-buy-right-now-nike-vs-apple/\"]}\n",
      "==================================\u001B[1m Ai Message \u001B[0m==================================\n",
      "\n",
      " The company that has become known for products like its namesake watch, Mac, iPad, and iPhone is Apple. However, it's the last item (iPhone) that accounts for the largest portion of the company's sales, representing 56% of fiscal first-quarter sales for the period ending on Dec. 28, 2024.\n",
      "\n",
      "Source(s): <https://www.fool.com/investing/2025/02/11/best-stock-to-buy-right-now-nike-vs-apple/>, <https://www.fool.com/investing/2025/02/12/best-stock-to-buy-right-now-amazon-vs-apple/>\n"
     ]
    }
   ],
   "execution_count": 81
  }
 ],
 "metadata": {
  "kernelspec": {
   "display_name": "Python 3",
   "language": "python",
   "name": "python3"
  },
  "language_info": {
   "codemirror_mode": {
    "name": "ipython",
    "version": 2
   },
   "file_extension": ".py",
   "mimetype": "text/x-python",
   "name": "python",
   "nbconvert_exporter": "python",
   "pygments_lexer": "ipython2",
   "version": "2.7.6"
  }
 },
 "nbformat": 4,
 "nbformat_minor": 5
}
